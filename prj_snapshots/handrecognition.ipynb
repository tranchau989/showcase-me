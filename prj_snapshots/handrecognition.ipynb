{
 "cells": [
  {
   "cell_type": "markdown",
   "id": "8789a204",
   "metadata": {},
   "source": [
    "### Import packages"
   ]
  },
  {
   "cell_type": "code",
   "execution_count": null,
   "id": "7ce2e652",
   "metadata": {},
   "outputs": [],
   "source": [
    "import torch\n",
    "import torch.nn as nn\n",
    "import torch.optim as optim\n",
    "import torchvision.transforms as TV\n",
    "import torchaudio.transforms as TA\n",
    "import torch.nn.functional as F\n",
    "from torch.utils.data import DataLoader, Dataset, TensorDataset\n",
    "import matplotlib.pyplot as plt\n",
    "import numpy as np\n",
    "from tqdm import tqdm\n",
    "from collections import Counter\n",
    "from sklearn.metrics import accuracy_score\n"
   ]
  },
  {
   "cell_type": "markdown",
   "id": "36866144",
   "metadata": {},
   "source": [
    "### Set hyperparams and load data"
   ]
  },
  {
   "cell_type": "code",
   "execution_count": null,
   "id": "5788bed0",
   "metadata": {},
   "outputs": [
    {
     "name": "stdout",
     "output_type": "stream",
     "text": [
      "train_audio_mel.shape: torch.Size([17560, 1, 64, 41])\n",
      "Example shape: torch.Size([1, 64, 41])\n",
      "🧠 Data Analysis:\n",
      "Total image samples: 17560\n",
      "Total audio samples: 17560\n",
      "\n",
      "Image label distribution:\n",
      "Label 0: 1783 samples\n",
      "Label 1: 1800 samples\n",
      "Label 2: 1740 samples\n",
      "Label 3: 1800 samples\n",
      "Label 4: 1747 samples\n",
      "Label 5: 1587 samples\n",
      "Label 6: 1771 samples\n",
      "Label 7: 1800 samples\n",
      "Label 8: 1732 samples\n",
      "Label 9: 1800 samples\n",
      "\n",
      "Audio label distribution:\n",
      "Label 0: 1783 samples\n",
      "Label 1: 1800 samples\n",
      "Label 2: 1740 samples\n",
      "Label 3: 1800 samples\n",
      "Label 4: 1747 samples\n",
      "Label 5: 1587 samples\n",
      "Label 6: 1771 samples\n",
      "Label 7: 1800 samples\n",
      "Label 8: 1732 samples\n",
      "Label 9: 1800 samples\n"
     ]
    }
   ],
   "source": [
    "device = torch.device(\"cuda\" if torch.cuda.is_available() else \"cpu\")\n",
    "batch_size = 64\n",
    "learning_rate = 0.01\n",
    "num_epochs = 5\n",
    "sample_rate = 16000  # Assuming audio sample rate is 16kHz\n",
    "\n",
    "data_dir = \"data\"  # Adjust this path as needed\n",
    "train_images       = torch.load(f\"{data_dir}/training_images.pth\")\n",
    "train_image_labels = torch.load(f\"{data_dir}/training_images_labels.pth\")\n",
    "train_audio        = torch.load(f\"{data_dir}/training_audio.pth\")\n",
    "train_audio_labels = torch.load(f\"{data_dir}/training_audio_labels.pth\")\n",
    "test_images        = torch.load(f\"{data_dir}/test_images.pth\")\n",
    "test_image_labels  = torch.load(f\"{data_dir}/test_images_labels.pth\")\n",
    "test_audio         = torch.load(f\"{data_dir}/test_audio.pth\")\n",
    "test_audio_labels  = torch.load(f\"{data_dir}/test_audio_labels.pth\")\n",
    "\n",
    "# --- Check Label Alignment ---\n",
    "def check_alignment(img_labels, aud_labels, split=\"train\"):\n",
    "    img = img_labels.cpu().numpy()\n",
    "    aud = aud_labels.cpu().numpy()\n",
    "    if len(img) != len(aud):\n",
    "        print(f\"❌ {split} length mismatch: image={len(img)}, audio={len(aud)}\")\n",
    "        return False\n",
    "    match_ratio = np.mean(img == aud)\n",
    "    print(f\"✅ {split.capitalize()} modality label match: {match_ratio * 100:.2f}%\")\n",
    "    if match_ratio < 0.95:\n",
    "        print(\"⚠️ Warning: Possible misalignment.\")\n",
    "    return True\n",
    "\n",
    "check_alignment(train_image_labels, train_audio_labels, \"train\")\n",
    "check_alignment(test_image_labels, test_audio_labels, \"test\")\n",
    "\n",
    "# Convert audio waveforms to mel spectrograms\n",
    "mel_transform = TA.MelSpectrogram(sample_rate=sample_rate, n_mels=64)\n",
    "train_audio_mel = torch.stack([mel_transform(wf.float()) for wf in train_audio])  # [n_mels, time]\n",
    "test_audio_mel = torch.stack([mel_transform(wf.float()) for wf in test_audio])\n",
    "\n",
    "# Ensure shape is consistent: (B, 1, H, W)\n",
    "if train_images.ndim == 3:\n",
    "    train_images = train_images.unsqueeze(1).float() / 255.0\n",
    "    test_images = test_images.unsqueeze(1).float() / 255.0\n",
    "else:\n",
    "    train_images = train_images.float() / 255.0\n",
    "    test_images = test_images.float() / 255.0\n",
    "\n",
    "# --- Datasets ---\n",
    "class MultimodalDataset(Dataset):\n",
    "    def __init__(self, images, audios, labels):\n",
    "        assert len(images) == len(audios) == len(labels)\n",
    "        self.images = images\n",
    "        self.audios = audios\n",
    "        self.labels = labels\n",
    "\n",
    "    def __getitem__(self, idx):\n",
    "        return self.images[idx], self.audios[idx], self.labels[idx]\n",
    "\n",
    "    def __len__(self):\n",
    "        return len(self.labels)\n",
    "\n",
    "# Individual modality datasets\n",
    "image_train_loader = DataLoader(TensorDataset(train_images, train_image_labels), batch_size=batch_size, shuffle=True)\n",
    "image_test_loader  = DataLoader(TensorDataset(test_images, test_image_labels), batch_size=batch_size)\n",
    "audio_train_loader = DataLoader(TensorDataset(train_audio_mel, train_audio_labels), batch_size=batch_size, shuffle=True)\n",
    "audio_test_loader  = DataLoader(TensorDataset(test_audio_mel, test_audio_labels), batch_size=batch_size)\n",
    "\n",
    "# Joint dataset for fusion\n",
    "fusion_train_loader = DataLoader(MultimodalDataset(train_images, train_audio_mel, train_image_labels), batch_size=batch_size, shuffle=True)\n",
    "fusion_test_loader  = DataLoader(MultimodalDataset(test_images, test_audio_mel, test_image_labels), batch_size=batch_size)\n",
    "\n",
    "\n",
    "# Dataloaders\n",
    "#image_train_loader = DataLoader(TensorDataset(train_images, train_image_labels), batch_size=batch_size, shuffle=True)\n",
    "#image_test_loader  = DataLoader(TensorDataset(test_images, test_image_labels), batch_size=batch_size)\n",
    "#audio_train_loader = DataLoader(TensorDataset(train_audio_mel, train_audio_labels), batch_size=batch_size, shuffle=True)\n",
    "#audio_test_loader  = DataLoader(TensorDataset(test_audio_mel, test_audio_labels), batch_size=batch_size)\n",
    "\n",
    "print(\"train_audio_mel.shape:\", train_audio_mel.shape)\n",
    "print(\"Example shape:\", train_audio_mel[0].shape)\n",
    "\n",
    "def analyze_data():\n",
    "    print(\"🧠 Data Analysis:\")\n",
    "    # Total samples\n",
    "    print(f\"Total image samples: {len(train_images)}\")\n",
    "    print(f\"Total audio samples: {len(train_audio)}\")\n",
    "    # Label distributions\n",
    "    image_label_counts = Counter(train_image_labels.tolist())\n",
    "    audio_label_counts = Counter(train_audio_labels.tolist())\n",
    "    print(\"\\nImage label distribution:\")\n",
    "    for label, count in sorted(image_label_counts.items()):\n",
    "        print(f\"Label {label}: {count} samples\")\n",
    "    print(\"\\nAudio label distribution:\")\n",
    "    for label, count in sorted(audio_label_counts.items()):\n",
    "        print(f\"Label {label}: {count} samples\")\n",
    "\n",
    "analyze_data()"
   ]
  },
  {
   "cell_type": "markdown",
   "id": "16e589b1",
   "metadata": {},
   "source": [
    "### Plotting data functions"
   ]
  },
  {
   "cell_type": "code",
   "execution_count": 3,
   "id": "d9296bb8",
   "metadata": {},
   "outputs": [],
   "source": [
    "def plot_image_audio_triplet(image, waveform, label, sample_rate=16000):\n",
    "    # Convert image\n",
    "    if image.ndim == 3 and image.shape[0] in [1, 3]:  # [C, H, W]\n",
    "        image_pil = TV.functional.to_pil_image(image)\n",
    "    elif image.ndim == 2:\n",
    "        image_pil = TV.functional.to_pil_image(image.unsqueeze(0))\n",
    "    else:\n",
    "        print(f\"Unknown image shape: {image.shape}\")\n",
    "        return\n",
    "\n",
    "    # Convert waveform to numpy\n",
    "    waveform_np = waveform.numpy()[0]  # Assuming mono channel\n",
    "\n",
    "    # Compute Mel Spectrogram\n",
    "    mel_transform = TA.MelSpectrogram(sample_rate=sample_rate, n_mels=64)\n",
    "    mel_spec_db = mel_transform(waveform.float()).log2()[0, :, :].numpy()\n",
    "\n",
    "    fig, axs = plt.subplots(1, 3, figsize=(18, 4))\n",
    "    axs[0].imshow(image_pil, cmap='gray')\n",
    "    axs[0].set_title(f\"Image - Label: {label}\")\n",
    "    axs[0].axis(\"off\")\n",
    "\n",
    "    # Waveform\n",
    "    time_axis = np.linspace(0, len(waveform_np) / sample_rate, num=len(waveform_np))\n",
    "    axs[1].plot(time_axis, waveform_np)\n",
    "    axs[1].set_title(\"Waveform\")\n",
    "    axs[1].set_xlabel(\"Time (s)\")\n",
    "    axs[1].set_ylabel(\"Amplitude\")\n",
    "\n",
    "    # Mel Spectrogram\n",
    "    im = axs[2].imshow(mel_spec_db, cmap='viridis', aspect='auto', origin='lower')\n",
    "    axs[2].set_title(\"Mel Spectrogram\")\n",
    "    axs[2].set_xlabel(\"Time\")\n",
    "    axs[2].set_ylabel(\"Mel Filter Bank\")\n",
    "    fig.colorbar(im, ax=axs[2], format='%+2.0f dB')\n",
    "\n",
    "    plt.tight_layout()\n",
    "    plt.show()\n",
    "    \n",
    "def plot_label_distributions(image_labels, audio_labels):\n",
    "    fig, axs = plt.subplots(1, 2, figsize=(7, 3))\n",
    "    # Image labels\n",
    "    img_counter = Counter(image_labels)\n",
    "    axs[0].bar(img_counter.keys(), img_counter.values(), color='skyblue')\n",
    "    axs[0].set_title(\"Training Image Label Distribution\")\n",
    "    axs[0].set_xlabel(\"Class\")\n",
    "    axs[0].set_ylabel(\"Count\")\n",
    "    axs[0].tick_params(axis='x', rotation=45)\n",
    "    # Audio labels\n",
    "    audio_counter = Counter(audio_labels)\n",
    "    axs[1].bar(audio_counter.keys(), audio_counter.values(), color='salmon')\n",
    "    axs[1].set_title(\"Training Audio Label Distribution\")\n",
    "    axs[1].set_xlabel(\"Class\")\n",
    "    axs[1].set_ylabel(\"Count\")\n",
    "    axs[1].tick_params(axis='x', rotation=45)\n",
    "\n",
    "    plt.tight_layout()\n",
    "    plt.show()"
   ]
  },
  {
   "cell_type": "markdown",
   "id": "c922ea4a",
   "metadata": {},
   "source": [
    "#### Visualizing a sample data (visual + image)"
   ]
  },
  {
   "cell_type": "code",
   "execution_count": 4,
   "id": "b83d98bf",
   "metadata": {},
   "outputs": [
    {
     "data": {
      "image/png": "[encoded data removed]",
      "text/plain": [
       "<Figure size 1800x400 with 4 Axes>"
      ]
     },
     "metadata": {},
     "output_type": "display_data"
    },
    {
     "data": {
      "image/png": "[encoded data removed]",
      "text/plain": [
       "<Figure size 700x300 with 2 Axes>"
      ]
     },
     "metadata": {},
     "output_type": "display_data"
    }
   ],
   "source": [
    "plot_image_audio_triplet(train_images[0], train_audio[0], train_audio_labels[0])\n",
    "plot_label_distributions(train_image_labels, train_audio_labels)"
   ]
  },
  {
   "cell_type": "markdown",
   "id": "ba67cc69",
   "metadata": {},
   "source": [
    "#### Defined models"
   ]
  },
  {
   "cell_type": "code",
   "execution_count": 11,
   "id": "670430cd",
   "metadata": {},
   "outputs": [],
   "source": [
    "class ImageNet(nn.Module): # Image Encoder (CNN)\n",
    "    def __init__(self, num_classes):\n",
    "        super(ImageNet, self).__init__()\n",
    "        self.cnn = nn.Sequential(\n",
    "            nn.Conv2d(1, 32, 3, padding=1), nn.ReLU(), nn.MaxPool2d(2),\n",
    "            nn.Conv2d(32, 64, 3, padding=1), nn.ReLU(), nn.MaxPool2d(2)\n",
    "        )\n",
    "        self.fc = nn.Sequential(\n",
    "            nn.Flatten(),\n",
    "            nn.Linear(64 * 7 * 7, 128),\n",
    "            nn.ReLU(),\n",
    "            nn.Linear(128, num_classes)\n",
    "        )\n",
    "\n",
    "    def forward(self, x):\n",
    "        return self.fc(self.cnn(x))\n",
    "\n",
    "class AudioNet(nn.Module):\n",
    "    def __init__(self, n_mels=64, time_steps=41, num_classes=10):\n",
    "        super(AudioNet, self).__init__()\n",
    "\n",
    "        # Convolution + pooling layers\n",
    "        self.conv1 = nn.Conv2d(1, 32, kernel_size=3, padding=1)\n",
    "        self.conv2 = nn.Conv2d(32, 64, kernel_size=3, padding=1)\n",
    "        self.pool = nn.MaxPool2d(2, 2)\n",
    "\n",
    "        # Automatically determine flattened feature size\n",
    "        with torch.no_grad():\n",
    "            dummy_input = torch.zeros(1, 1, n_mels, time_steps)\n",
    "            x = self.pool(F.relu(self.conv1(dummy_input)))\n",
    "            x = self.pool(F.relu(self.conv2(x)))\n",
    "            self.flatten_dim = x.view(1, -1).shape[1]  # Dynamically computed\n",
    "\n",
    "        # Fully connected layers\n",
    "        self.fc1 = nn.Linear(self.flatten_dim, 128)\n",
    "        self.fc2 = nn.Linear(128, num_classes)\n",
    "\n",
    "    def forward(self, x):\n",
    "        x = self.pool(F.relu(self.conv1(x)))\n",
    "        x = self.pool(F.relu(self.conv2(x)))\n",
    "        x = x.view(x.size(0), -1)  # Flatten\n",
    "        x = F.relu(self.fc1(x))\n",
    "        x = self.fc2(x)\n",
    "        return x\n"
   ]
  },
  {
   "cell_type": "code",
   "execution_count": 12,
   "id": "d1a00eee",
   "metadata": {},
   "outputs": [],
   "source": [
    "def train_and_evaluate(model, train_loader, test_loader, modality_name):\n",
    "    model = model.to(device)\n",
    "    criterion = nn.CrossEntropyLoss()\n",
    "    optimizer = optim.Adam(model.parameters(), lr=learning_rate)\n",
    "\n",
    "    for epoch in range(num_epochs):\n",
    "        model.train()\n",
    "        total_loss = 0\n",
    "        for x, y in tqdm(train_loader, desc=f\"{modality_name} Training Epoch {epoch+1}\"):\n",
    "            x, y = x.to(device), y.to(device)\n",
    "            optimizer.zero_grad()\n",
    "            outputs = model(x)\n",
    "            loss = criterion(outputs, y)\n",
    "            loss.backward()\n",
    "            optimizer.step()\n",
    "            total_loss += loss.item()\n",
    "\n",
    "        print(f\"Epoch {epoch+1} Loss: {total_loss/len(train_loader):.4f}\")\n",
    "\n",
    "    # Evaluation\n",
    "    model.eval()\n",
    "    correct, total = 0, 0\n",
    "    with torch.no_grad():\n",
    "        for x, y in test_loader:\n",
    "            x, y = x.to(device), y.to(device)\n",
    "            outputs = model(x)\n",
    "            _, preds = torch.max(outputs, 1)\n",
    "            correct += (preds == y).sum().item()\n",
    "            total += y.size(0)\n",
    "\n",
    "    accuracy = 100 * correct / total\n",
    "    print(f\"{modality_name} Test Accuracy: {accuracy:.2f}%\")\n",
    "    return accuracy\n"
   ]
  },
  {
   "cell_type": "code",
   "execution_count": 14,
   "id": "4fc9800d",
   "metadata": {},
   "outputs": [
    {
     "name": "stderr",
     "output_type": "stream",
     "text": [
      "Image Training Epoch 1: 100%|██████████| 275/275 [00:06<00:00, 45.28it/s]\n"
     ]
    },
    {
     "name": "stdout",
     "output_type": "stream",
     "text": [
      "Epoch 1 Loss: 2.3129\n"
     ]
    },
    {
     "name": "stderr",
     "output_type": "stream",
     "text": [
      "Image Training Epoch 2: 100%|██████████| 275/275 [00:06<00:00, 44.66it/s]\n"
     ]
    },
    {
     "name": "stdout",
     "output_type": "stream",
     "text": [
      "Epoch 2 Loss: 2.3031\n"
     ]
    },
    {
     "name": "stderr",
     "output_type": "stream",
     "text": [
      "Image Training Epoch 3: 100%|██████████| 275/275 [00:06<00:00, 45.25it/s]\n"
     ]
    },
    {
     "name": "stdout",
     "output_type": "stream",
     "text": [
      "Epoch 3 Loss: 2.3031\n"
     ]
    },
    {
     "name": "stderr",
     "output_type": "stream",
     "text": [
      "Image Training Epoch 4: 100%|██████████| 275/275 [00:06<00:00, 45.01it/s]\n"
     ]
    },
    {
     "name": "stdout",
     "output_type": "stream",
     "text": [
      "Epoch 4 Loss: 2.3029\n"
     ]
    },
    {
     "name": "stderr",
     "output_type": "stream",
     "text": [
      "Image Training Epoch 5: 100%|██████████| 275/275 [00:06<00:00, 45.41it/s]\n"
     ]
    },
    {
     "name": "stdout",
     "output_type": "stream",
     "text": [
      "Epoch 5 Loss: 2.3030\n",
      "Image Test Accuracy: 10.02%\n"
     ]
    },
    {
     "name": "stderr",
     "output_type": "stream",
     "text": [
      "Audio Training Epoch 1: 100%|██████████| 275/275 [00:16<00:00, 16.80it/s]\n"
     ]
    },
    {
     "name": "stdout",
     "output_type": "stream",
     "text": [
      "Epoch 1 Loss: 784.6471\n"
     ]
    },
    {
     "name": "stderr",
     "output_type": "stream",
     "text": [
      "Audio Training Epoch 2: 100%|██████████| 275/275 [00:16<00:00, 16.78it/s]\n"
     ]
    },
    {
     "name": "stdout",
     "output_type": "stream",
     "text": [
      "Epoch 2 Loss: 2.3598\n"
     ]
    },
    {
     "name": "stderr",
     "output_type": "stream",
     "text": [
      "Audio Training Epoch 3: 100%|██████████| 275/275 [00:16<00:00, 16.57it/s]\n"
     ]
    },
    {
     "name": "stdout",
     "output_type": "stream",
     "text": [
      "Epoch 3 Loss: 2.3500\n"
     ]
    },
    {
     "name": "stderr",
     "output_type": "stream",
     "text": [
      "Audio Training Epoch 4: 100%|██████████| 275/275 [00:16<00:00, 16.74it/s]\n"
     ]
    },
    {
     "name": "stdout",
     "output_type": "stream",
     "text": [
      "Epoch 4 Loss: 2.3449\n"
     ]
    },
    {
     "name": "stderr",
     "output_type": "stream",
     "text": [
      "Audio Training Epoch 5: 100%|██████████| 275/275 [00:16<00:00, 16.64it/s]\n"
     ]
    },
    {
     "name": "stdout",
     "output_type": "stream",
     "text": [
      "Epoch 5 Loss: 2.3197\n",
      "Audio Test Accuracy: 9.59%\n",
      "\n",
      "🔍 Modality Comparison:\n",
      "| Modality       | Test Accuracy   |\n",
      "|----------------|-----------------|\n",
      "| Image Modality | 10.02%          |\n",
      "| Audio Modality | 9.59%           |\n"
     ]
    }
   ],
   "source": [
    "num_classes = len(set(train_image_labels.tolist()))\n",
    "\n",
    "image_model = ImageNet(num_classes)\n",
    "audio_model = AudioNet(n_mels=64, time_steps=41, num_classes=10).to(device)\n",
    "\n",
    "acc_image = train_and_evaluate(image_model, image_train_loader, image_test_loader, \"Image\")\n",
    "acc_audio = train_and_evaluate(audio_model, audio_train_loader, audio_test_loader, \"Audio\")\n",
    "\n",
    "from tabulate import tabulate\n",
    "\n",
    "results = [\n",
    "    [\"Image Modality\", f\"{acc_image:.2f}%\"],\n",
    "    [\"Audio Modality\", f\"{acc_audio:.2f}%\"]\n",
    "]\n",
    "\n",
    "print(\"\\n🔍 Modality Comparison:\")\n",
    "print(tabulate(results, headers=[\"Modality\", \"Test Accuracy\"], tablefmt=\"github\"))\n"
   ]
  },
  {
   "cell_type": "code",
   "execution_count": 17,
   "id": "f47b7f55",
   "metadata": {},
   "outputs": [
    {
     "name": "stdout",
     "output_type": "stream",
     "text": [
      "Image Accuracy: 85.71%\n",
      "Audio Accuracy: 15.04%\n",
      "Modality    Accuracy\n",
      "----------  ----------\n",
      "Image       85.71%\n",
      "Audio       15.04%\n"
     ]
    }
   ],
   "source": [
    "# --- Models ---\n",
    "class ResNet18Gray(nn.Module):\n",
    "    def __init__(self, num_classes):\n",
    "        super().__init__()\n",
    "        from torchvision.models import resnet18\n",
    "        self.model = resnet18(weights=None)\n",
    "        self.model.conv1 = nn.Conv2d(1, 64, kernel_size=7, stride=2, padding=3, bias=False)\n",
    "        self.model.fc = nn.Linear(self.model.fc.in_features, num_classes)\n",
    "\n",
    "    def forward(self, x):\n",
    "        return self.model(x)\n",
    "\n",
    "class AudioCNNImproved(nn.Module):\n",
    "    def __init__(self, n_mels=64, time_steps=41, num_classes=10):\n",
    "        super().__init__()\n",
    "        self.net = nn.Sequential(\n",
    "            nn.Conv2d(1, 32, 3, padding=1), nn.BatchNorm2d(32), nn.ReLU(), nn.MaxPool2d(2),\n",
    "            nn.Conv2d(32, 64, 3, padding=1), nn.BatchNorm2d(64), nn.ReLU(), nn.MaxPool2d(2),\n",
    "            nn.Conv2d(64, 128, 3, padding=1), nn.BatchNorm2d(128), nn.ReLU(), nn.MaxPool2d(2)\n",
    "        )\n",
    "        with torch.no_grad():\n",
    "            dummy = torch.zeros(1, 1, n_mels, time_steps)\n",
    "            out = self.net(dummy)\n",
    "            self.flat_dim = out.view(1, -1).shape[1]\n",
    "        self.classifier = nn.Sequential(\n",
    "            nn.Linear(self.flat_dim, 256), nn.ReLU(), nn.Dropout(0.3),\n",
    "            nn.Linear(256, num_classes)\n",
    "        )\n",
    "\n",
    "    def forward(self, x):\n",
    "        x = self.net(x)\n",
    "        x = x.view(x.size(0), -1)\n",
    "        return self.classifier(x)\n",
    "\n",
    "# --- Training & Evaluation ---\n",
    "def train_and_evaluate(model, train_loader, test_loader, modality):\n",
    "    model = model.to(device)\n",
    "    optimizer = optim.Adam(model.parameters(), lr=learning_rate)\n",
    "    criterion = nn.CrossEntropyLoss()\n",
    "\n",
    "    for epoch in range(num_epochs):\n",
    "        model.train()\n",
    "        for x, y in train_loader:\n",
    "            x, y = x.to(device), y.to(device)\n",
    "            optimizer.zero_grad()\n",
    "            outputs = model(x)\n",
    "            loss = criterion(outputs, y)\n",
    "            loss.backward()\n",
    "            optimizer.step()\n",
    "\n",
    "    model.eval()\n",
    "    all_preds, all_labels = [], []\n",
    "    with torch.no_grad():\n",
    "        for x, y in test_loader:\n",
    "            x, y = x.to(device), y.to(device)\n",
    "            preds = model(x).argmax(dim=1)\n",
    "            all_preds.append(preds.cpu())\n",
    "            all_labels.append(y.cpu())\n",
    "    acc = accuracy_score(torch.cat(all_labels), torch.cat(all_preds))\n",
    "    print(f\"{modality} Accuracy: {acc * 100:.2f}%\")\n",
    "    return acc * 100\n",
    "\n",
    "# --- Run Training ---\n",
    "device = torch.device(\"cuda\" if torch.cuda.is_available() else \"cpu\")\n",
    "image_model = ResNet18Gray(num_classes)\n",
    "audio_model = AudioCNNImproved(n_mels=64, time_steps=41, num_classes=num_classes)\n",
    "\n",
    "acc_image = train_and_evaluate(image_model, image_train_loader, image_test_loader, \"Image\")\n",
    "acc_audio = train_and_evaluate(audio_model, audio_train_loader, audio_test_loader, \"Audio\")\n",
    "\n",
    "# --- Print Results ---\n",
    "from tabulate import tabulate\n",
    "results = [[\"Image\", f\"{acc_image:.2f}%\"], [\"Audio\", f\"{acc_audio:.2f}%\"]]\n",
    "print(tabulate(results, headers=[\"Modality\", \"Accuracy\"]))\n"
   ]
  },
  {
   "cell_type": "markdown",
   "id": "22dd5f99",
   "metadata": {},
   "source": [
    "#### Fusion"
   ]
  },
  {
   "cell_type": "code",
   "execution_count": 18,
   "id": "f68510ba",
   "metadata": {},
   "outputs": [],
   "source": [
    "class SimpleConcatMultimodal(nn.Module):\n",
    "    def __init__(self, img_model, audio_model, num_classes=10):\n",
    "        super().__init__()\n",
    "        self.img_feat = nn.Sequential(*list(img_model.model.children())[:-1])  # remove fc\n",
    "        self.audio_feat = nn.Sequential(*list(audio_model.net.children()))\n",
    "        self.audio_flat_dim = audio_model.flat_dim\n",
    "\n",
    "        self.classifier = nn.Sequential(\n",
    "            nn.Linear(img_model.model.fc.in_features + self.audio_flat_dim, 256),\n",
    "            nn.ReLU(),\n",
    "            nn.Dropout(0.3),\n",
    "            nn.Linear(256, num_classes)\n",
    "        )\n",
    "\n",
    "    def forward(self, img, audio):\n",
    "        img_feat = self.img_feat(img)\n",
    "        img_feat = img_feat.view(img_feat.size(0), -1)\n",
    "        audio_feat = self.audio_feat(audio)\n",
    "        audio_feat = audio_feat.view(audio_feat.size(0), -1)\n",
    "        combined = torch.cat([img_feat, audio_feat], dim=1)\n",
    "        return self.classifier(combined)\n",
    "\n",
    "\n",
    "class CrossModalAttention(nn.Module):\n",
    "    def __init__(self, img_model, audio_model, num_classes=10, embed_dim=256):\n",
    "        super().__init__()\n",
    "        self.img_feat = nn.Sequential(*list(img_model.model.children())[:-1])\n",
    "        self.audio_feat = nn.Sequential(*list(audio_model.net.children()))\n",
    "        self.audio_flat_dim = audio_model.flat_dim\n",
    "        self.img_embed = nn.Linear(img_model.model.fc.in_features, embed_dim)\n",
    "        self.audio_embed = nn.Linear(self.audio_flat_dim, embed_dim)\n",
    "\n",
    "        self.attention = nn.MultiheadAttention(embed_dim, num_heads=4, batch_first=True)\n",
    "\n",
    "        self.classifier = nn.Sequential(\n",
    "            nn.Linear(embed_dim, 128),\n",
    "            nn.ReLU(),\n",
    "            nn.Dropout(0.3),\n",
    "            nn.Linear(128, num_classes)\n",
    "        )\n",
    "\n",
    "    def forward(self, img, audio):\n",
    "        img_feat = self.img_feat(img).view(img.size(0), -1)  # (B, feat_dim)\n",
    "        audio_feat = self.audio_feat(audio).view(audio.size(0), -1)  # (B, feat_dim)\n",
    "        img_emb = self.img_embed(img_feat).unsqueeze(1)  # (B, 1, embed_dim)\n",
    "        audio_emb = self.audio_embed(audio_feat).unsqueeze(1)  # (B, 1, embed_dim)\n",
    "\n",
    "        # Concatenate sequence length = 2\n",
    "        x = torch.cat([img_emb, audio_emb], dim=1)  # (B, 2, embed_dim)\n",
    "        attn_out, _ = self.attention(x, x, x)  # Self-attention on combined embeddings\n",
    "        fused = attn_out.mean(dim=1)  # (B, embed_dim)\n",
    "\n",
    "        return self.classifier(fused)\n",
    "    \n",
    "def train_fusion_model(model, train_loader, test_loader):\n",
    "    model.to(device)\n",
    "    optimizer = optim.Adam(model.parameters(), lr=learning_rate)\n",
    "    criterion = nn.CrossEntropyLoss()\n",
    "    for epoch in range(num_epochs):\n",
    "        model.train()\n",
    "        for img, aud, label in tqdm(train_loader, desc=f\"Fusion Epoch {epoch+1}\"):\n",
    "            img, aud, label = img.to(device), aud.to(device), label.to(device)\n",
    "            optimizer.zero_grad()\n",
    "            outputs = model(img, aud)\n",
    "            loss = criterion(outputs, label)\n",
    "            loss.backward()\n",
    "            optimizer.step()\n",
    "    model.eval()\n",
    "    correct = 0\n",
    "    total = 0\n",
    "    with torch.no_grad():\n",
    "        for img, aud, label in test_loader:\n",
    "            img, aud, label = img.to(device), aud.to(device), label.to(device)\n",
    "            outputs = model(img, aud)\n",
    "            pred = outputs.argmax(dim=1)\n",
    "            correct += (pred == label).sum().item()\n",
    "            total += label.size(0)\n",
    "    return 100 * correct / total\n"
   ]
  },
  {
   "cell_type": "code",
   "execution_count": null,
   "id": "900bc471",
   "metadata": {},
   "outputs": [
    {
     "name": "stderr",
     "output_type": "stream",
     "text": [
      "Fusion Epoch 1: 100%|██████████| 275/275 [01:59<00:00,  2.30it/s]\n",
      "Fusion Epoch 2: 100%|██████████| 275/275 [02:00<00:00,  2.29it/s]\n",
      "Fusion Epoch 3: 100%|██████████| 275/275 [02:00<00:00,  2.29it/s]\n",
      "Fusion Epoch 4: 100%|██████████| 275/275 [02:01<00:00,  2.26it/s]\n",
      "Fusion Epoch 5: 100%|██████████| 275/275 [02:02<00:00,  2.24it/s]\n",
      "Fusion Epoch 1: 100%|██████████| 275/275 [02:03<00:00,  2.22it/s]\n",
      "Fusion Epoch 2: 100%|██████████| 275/275 [02:04<00:00,  2.22it/s]\n",
      "Fusion Epoch 3: 100%|██████████| 275/275 [02:03<00:00,  2.23it/s]\n",
      "Fusion Epoch 4: 100%|██████████| 275/275 [02:02<00:00,  2.24it/s]\n",
      "Fusion Epoch 5: 100%|██████████| 275/275 [02:02<00:00,  2.24it/s]\n"
     ]
    },
    {
     "name": "stdout",
     "output_type": "stream",
     "text": [
      "Model               Accuracy\n",
      "------------------  ----------\n",
      "Image Only          85.71%\n",
      "Audio Only          15.04%\n",
      "Fusion (Concat)     76.72%\n",
      "Fusion (Attention)  10.24%\n"
     ]
    }
   ],
   "source": [
    "# --- Run Fusion Models ---\n",
    "fusion_train_loader = DataLoader(TensorDataset(train_images, train_audio_mel, train_image_labels), batch_size=batch_size, shuffle=True)\n",
    "fusion_test_loader = DataLoader(TensorDataset(test_images, test_audio_mel, test_image_labels), batch_size=batch_size)\n",
    "\n",
    "fusion_model_concat = SimpleConcatMultimodal(image_model, audio_model)\n",
    "fusion_model_attn = CrossModalAttention(image_model, audio_model)\n",
    "\n",
    "acc_fusion_concat = train_fusion_model(fusion_model_concat, fusion_train_loader, fusion_test_loader)\n",
    "acc_fusion_attn = train_fusion_model(fusion_model_attn, fusion_train_loader, fusion_test_loader)\n",
    "\n",
    "# --- Results ---\n",
    "results = [\n",
    "    [\"Image Only\", f\"{acc_image:.2f}%\"],\n",
    "    [\"Audio Only\", f\"{acc_audio:.2f}%\"],\n",
    "    [\"Fusion (Concat)\", f\"{acc_fusion_concat:.2f}%\"],\n",
    "    [\"Fusion (Attention)\", f\"{acc_fusion_attn:.2f}%\"]\n",
    "]\n",
    "print(tabulate(results, headers=[\"Model\", \"Accuracy\"]))"
   ]
  },
  {
   "cell_type": "code",
   "execution_count": null,
   "id": "878bd7c3",
   "metadata": {},
   "outputs": [],
   "source": []
  }
 ],
 "metadata": {
  "kernelspec": {
   "display_name": "nora2025",
   "language": "python",
   "name": "python3"
  },
  "language_info": {
   "codemirror_mode": {
    "name": "ipython",
    "version": 3
   },
   "file_extension": ".py",
   "mimetype": "text/x-python",
   "name": "python",
   "nbconvert_exporter": "python",
   "pygments_lexer": "ipython3",
   "version": "3.10.6"
  }
 },
 "nbformat": 4,
 "nbformat_minor": 5
}
